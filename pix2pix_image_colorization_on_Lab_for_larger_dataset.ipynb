{
  "nbformat": 4,
  "nbformat_minor": 0,
  "metadata": {
    "colab": {
      "provenance": [],
      "collapsed_sections": [],
      "include_colab_link": true
    },
    "kernelspec": {
      "name": "python3",
      "display_name": "Python 3"
    },
    "language_info": {
      "name": "python"
    },
    "accelerator": "GPU",
    "gpuClass": "standard"
  },
  "cells": [
    {
      "cell_type": "markdown",
      "metadata": {
        "id": "view-in-github",
        "colab_type": "text"
      },
      "source": [
        "<a href=\"https://colab.research.google.com/github/NAHIN-JZS/image_colorization/blob/main/pix2pix_image_colorization_on_Lab_for_larger_dataset.ipynb\" target=\"_parent\"><img src=\"https://colab.research.google.com/assets/colab-badge.svg\" alt=\"Open In Colab\"/></a>"
      ]
    },
    {
      "cell_type": "code",
      "source": [
        "from google.colab import drive\n",
        "drive.mount('/content/gdrive')"
      ],
      "metadata": {
        "colab": {
          "base_uri": "https://localhost:8080/"
        },
        "id": "BtzJSLqv1B5R",
        "outputId": "04fbe64b-10c2-41b9-c77f-7aa9341207f3"
      },
      "execution_count": 1,
      "outputs": [
        {
          "output_type": "stream",
          "name": "stdout",
          "text": [
            "Mounted at /content/gdrive\n"
          ]
        }
      ]
    },
    {
      "cell_type": "code",
      "source": [
        "!pip install -q tensorflow-io"
      ],
      "metadata": {
        "colab": {
          "base_uri": "https://localhost:8080/"
        },
        "id": "IpoXM06-Y38Y",
        "outputId": "2030e302-4f8b-44a5-9806-0a0847f7b47b"
      },
      "execution_count": 14,
      "outputs": [
        {
          "output_type": "stream",
          "name": "stdout",
          "text": [
            "\u001b[K     |████████████████████████████████| 25.0 MB 1.5 MB/s \n",
            "\u001b[?25h"
          ]
        }
      ]
    },
    {
      "cell_type": "code",
      "source": [
        "from numpy import zeros\n",
        "from numpy import ones\n",
        "from numpy.random import randint\n",
        "from tensorflow.keras.optimizers import Adam\n",
        "from keras.initializers import RandomNormal\n",
        "from keras.models import Model\n",
        "from keras.models import Input\n",
        "from keras.layers import Conv2D\n",
        "from keras.layers import Conv2DTranspose\n",
        "from keras.layers import LeakyReLU\n",
        "from keras.layers import Activation\n",
        "from keras.layers import Concatenate\n",
        "from keras.layers import Dropout\n",
        "from keras.layers import BatchNormalization\n",
        "from matplotlib import pyplot as plt\n",
        "from tensorflow.keras.utils import plot_model\n",
        "from skimage.color import rgb2lab, lab2rgb, rgb2gray, xyz2lab\n",
        "import csv\n",
        "\n",
        "import tensorflow_io as tfio"
      ],
      "metadata": {
        "id": "4B-QHaSQr4p6"
      },
      "execution_count": 16,
      "outputs": []
    },
    {
      "cell_type": "code",
      "source": [
        "def define_discriminator(input_image_shape,output_image_shape):\n",
        "    \n",
        "\t# weight initialization\n",
        "\tinit = RandomNormal(stddev=0.02) #As described in the original paper\n",
        "    \n",
        "\t# source image input\n",
        "\tin_src_image = Input(shape=input_image_shape)  #Image we want to convert to another image\n",
        "\t# target image input\n",
        "\tin_target_image = Input(shape=output_image_shape)  #Image we want to generate after training. \n",
        "    \n",
        "\t# concatenate images, channel-wise\n",
        "\tmerged = Concatenate()([in_src_image, in_target_image])\n",
        "    \n",
        "\t# C64: 4x4 kernel Stride 2x2\n",
        "\td = Conv2D(64, (4,4), strides=(2,2), padding='same', kernel_initializer=init)(merged)\n",
        "\td = LeakyReLU(alpha=0.2)(d)\n",
        "\t# C128: 4x4 kernel Stride 2x2\n",
        "\td = Conv2D(128, (4,4), strides=(2,2), padding='same', kernel_initializer=init)(d)\n",
        "\td = BatchNormalization()(d)\n",
        "\td = LeakyReLU(alpha=0.2)(d)\n",
        "\t# C256: 4x4 kernel Stride 2x2\n",
        "\td = Conv2D(256, (4,4), strides=(2,2), padding='same', kernel_initializer=init)(d)\n",
        "\td = BatchNormalization()(d)\n",
        "\td = LeakyReLU(alpha=0.2)(d)\n",
        "\t# second last output layer : 4x4 kernel but Stride 1x1\n",
        "\td = Conv2D(512, (4,4), padding='same', kernel_initializer=init)(d)\n",
        "\td = BatchNormalization()(d)\n",
        "\td = LeakyReLU(alpha=0.2)(d)\n",
        "\t# patch output\n",
        "\td = Conv2D(1, (4,4), padding='same', kernel_initializer=init)(d)\n",
        "\tpatch_out = Activation('sigmoid')(d)\n",
        "\t# define model\n",
        "\tmodel = Model([in_src_image, in_target_image], patch_out)\n",
        "    \n",
        "\topt = Adam(lr=0.0002, beta_1=0.5)\n",
        "\tmodel.compile(loss='binary_crossentropy', optimizer=opt, loss_weights=[0.5])\n",
        "\treturn model"
      ],
      "metadata": {
        "id": "C7gUEFXIr7Er"
      },
      "execution_count": 3,
      "outputs": []
    },
    {
      "cell_type": "code",
      "source": [
        "\n",
        "def define_encoder_block(layer_in, n_filters, batchnorm=True):\n",
        "\t# weight initialization\n",
        "\tinit = RandomNormal(stddev=0.02)\n",
        "\t# add downsampling layer\n",
        "\tg = Conv2D(n_filters, (4,4), strides=(2,2), padding='same', kernel_initializer=init)(layer_in)\n",
        "\t# conditionally add batch normalization\n",
        "\tif batchnorm:\n",
        "\t\tg = BatchNormalization()(g, training=True)\n",
        "\t# leaky relu activation\n",
        "\tg = LeakyReLU(alpha=0.2)(g)\n",
        "\treturn g\n"
      ],
      "metadata": {
        "id": "Ji_QN4Pdr_l1"
      },
      "execution_count": 4,
      "outputs": []
    },
    {
      "cell_type": "code",
      "source": [
        "# define a decoder block to be used in generator\n",
        "def decoder_block(layer_in, skip_in, n_filters, dropout=True):\n",
        "\t# weight initialization\n",
        "\tinit = RandomNormal(stddev=0.02)\n",
        "\t# add upsampling layer\n",
        "\tg = Conv2DTranspose(n_filters, (4,4), strides=(2,2), padding='same', kernel_initializer=init)(layer_in)\n",
        "\t# add batch normalization\n",
        "\tg = BatchNormalization()(g, training=True)\n",
        "\t# conditionally add dropout\n",
        "\tif dropout:\n",
        "\t\tg = Dropout(0.5)(g, training=True)\n",
        "\t# merge with skip connection\n",
        "\tg = Concatenate()([g, skip_in])\n",
        "\t# relu activation\n",
        "\tg = Activation('relu')(g)\n",
        "\treturn g"
      ],
      "metadata": {
        "id": "11tLem4TsDNV"
      },
      "execution_count": 5,
      "outputs": []
    },
    {
      "cell_type": "code",
      "source": [
        "# define the standalone generator model - U-net\n",
        "def define_generator(input_image_shape=(256,256,1),output_image_shape=(256,256,3)):\n",
        "\t# weight initialization\n",
        "\tinit = RandomNormal(stddev=0.02)\n",
        "\t# image input\n",
        "\tin_image = Input(shape=input_image_shape)\n",
        "\t# encoder model: C64-C128-C256-C512-C512-C512-C512-C512\n",
        "\te1 = define_encoder_block(in_image, 64, batchnorm=False)\n",
        "\te2 = define_encoder_block(e1, 128)\n",
        "\te3 = define_encoder_block(e2, 256)\n",
        "\te4 = define_encoder_block(e3, 512)\n",
        "\te5 = define_encoder_block(e4, 512)\n",
        "\te6 = define_encoder_block(e5, 512)\n",
        "\te7 = define_encoder_block(e6, 512)\n",
        "\t# bottleneck, no batch norm and relu\n",
        "\tb = Conv2D(512, (4,4), strides=(2,2), padding='same', kernel_initializer=init)(e7)\n",
        "\tb = Activation('relu')(b)\n",
        "\t# decoder model: CD512-CD512-CD512-C512-C256-C128-C64\n",
        "\td1 = decoder_block(b, e7, 512)\n",
        "\td2 = decoder_block(d1, e6, 512)\n",
        "\td3 = decoder_block(d2, e5, 512)\n",
        "\td4 = decoder_block(d3, e4, 512, dropout=False)\n",
        "\td5 = decoder_block(d4, e3, 256, dropout=False)\n",
        "\td6 = decoder_block(d5, e2, 128, dropout=False)\n",
        "\td7 = decoder_block(d6, e1, 64, dropout=False)\n",
        "\t# output\n",
        "\tg = Conv2DTranspose(output_image_shape[2], (4,4), strides=(2,2), padding='same', kernel_initializer=init)(d7) #Modified \n",
        "\tout_image = Activation('tanh')(g)  #Generates images in the range -1 to 1. So change inputs also to -1 to 1\n",
        "\t# define model\n",
        "\tmodel = Model(in_image, out_image)\n",
        "\treturn model\n"
      ],
      "metadata": {
        "id": "7hQeM5B4sFr_"
      },
      "execution_count": 6,
      "outputs": []
    },
    {
      "cell_type": "code",
      "source": [
        "# define the combined generator and discriminator model, for updating the generator\n",
        "def define_gan(g_model, d_model, input_image_shape):\n",
        "\t# make weights in the discriminator not trainable\n",
        "\tfor layer in d_model.layers:\n",
        "\t\tif not isinstance(layer, BatchNormalization):\n",
        "\t\t\tlayer.trainable = False\n",
        "            \n",
        "\t# define the source image\n",
        "\tin_src = Input(shape=input_image_shape)\n",
        "\t# suppy the image as input to the generator \n",
        "\tgen_out = g_model(in_src)\n",
        "\t# supply the input image and generated image as inputs to the discriminator\n",
        "\tdis_out = d_model([in_src, gen_out])\n",
        "\t# src image as input, generated image and disc. output as outputs\n",
        "\tmodel = Model(in_src, [dis_out, gen_out])\n",
        "\t# compile model\n",
        "\topt = Adam(lr=0.0002, beta_1=0.5)\n",
        "    \n",
        "\tmodel.compile(loss=['binary_crossentropy', 'mae'], \n",
        "               optimizer=opt, loss_weights=[1,100])\n",
        "\treturn model"
      ],
      "metadata": {
        "id": "ddQnRDqHsIYn"
      },
      "execution_count": 7,
      "outputs": []
    },
    {
      "cell_type": "code",
      "source": [
        "\n",
        "def generate_real_samples(dataset, n_samples, patch_shape):\n",
        "\t# unpack dataset\n",
        "\ttrainA, trainB = dataset\n",
        "\t# choose random instances\n",
        "\tix = randint(0, trainA.shape[0], n_samples)\n",
        "\t# retrieve selected images\n",
        "\tX1, X2 = trainA[ix], trainB[ix]\n",
        "\t# generate 'real' class labels (1)\n",
        "\ty = ones((n_samples, patch_shape, patch_shape, 1))\n",
        "\treturn [X1, X2], y"
      ],
      "metadata": {
        "id": "LVT0Yw78sKdL"
      },
      "execution_count": 8,
      "outputs": []
    },
    {
      "cell_type": "code",
      "source": [
        "\n",
        "\n",
        "# generate a batch of images, returns images and targets\n",
        "def generate_fake_samples(g_model, samples, patch_shape):\n",
        "\t# generate fake instance\n",
        "\tX = g_model.predict(samples)\n",
        "\t# create 'fake' class labels (0)\n",
        "\ty = zeros((len(X), patch_shape, patch_shape, 1))\n",
        "\treturn X, y"
      ],
      "metadata": {
        "id": "S7VXjPtvsMEL"
      },
      "execution_count": 9,
      "outputs": []
    },
    {
      "cell_type": "code",
      "source": [
        "\n",
        "'''def summarize_performance(step, g_model,d_model,gan_model,d1_loss_list,d2_loss_list,g_loss_list, dataset,weight_folder, n_samples=3):\n",
        "\t# select a sample of input images\n",
        "\t# [X_realA, X_realB], _ = generate_real_samples(dataset, n_samples, 1)\n",
        "\t# generate a batch of fake samples\n",
        "\t# X_fakeB, _ = generate_fake_samples(g_model, X_realA, 1)\n",
        "\t# scale all pixels from [-1,1] to [0,1]\n",
        "\t# X_realA = (X_realA + 1) / 2.0\n",
        "\t# X_realB = (X_realB + 1) / 2.0\n",
        "\t# X_fakeB = (X_fakeB + 1) / 2.0\n",
        "\t# plot real source images\n",
        "\t# for i in range(n_samples):\n",
        "\t\t# plt.subplot(3, n_samples, 1 + i)\n",
        "\t\t# plt.axis('off')\n",
        "\t\t# re = np.squeeze(X_realA[i])\n",
        "\t\t# plt.imshow(re,'gray')\n",
        "\t# plot generated target image\n",
        "\t# for i in range(n_samples):\n",
        "\t\t# plt.subplot(3, n_samples, 1 + n_samples + i)\n",
        "\t\t# plt.axis('off')\n",
        "\t\t# plt.imshow(X_fakeB[i])\n",
        "\t# plot real target image\n",
        "\t# for i in range(n_samples):\n",
        "\t\t# plt.subplot(3, n_samples, 1 + n_samples*2 + i)\n",
        "\t\t# plt.axis('off')\n",
        "\t\t# plt.imshow(X_realB[i])\n",
        "\t# save plot to file\n",
        "\t#filename1 = '/content/gdrive/MyDrive/Thesis/Dataset/test/few_image/chkpoint/plot_%06d.png' % (step+1)\n",
        "\t#plt.savefig(filename1)\n",
        "\t#plt.close()\n",
        "\t# save the generator model\n",
        "\tg_model_filename = weight_folder +'/g_model_%06d.h5' % (step+1)\n",
        "\tg_model.save(g_model_filename)\n",
        "\tprint('>Saved: %s' % ( g_model_filename))\n",
        "\n",
        "\t\n",
        "\td_model_filename = weight_folder +'/d_model_%06d.h5' % (step+1)\n",
        "\td_model.save(d_model_filename)\n",
        "\tprint('>Saved: %s' % ( d_model_filename))\n",
        " \n",
        "\t\n",
        "\tgan_model_filename = weight_folder +'/gan_model_%06d.h5' % (step+1)\n",
        "\tgan_model.save(gan_model_filename)\n",
        "\tprint('>Saved: %s' % ( gan_model_filename))'''\n",
        " \n",
        "\t# cse_file = open('loss_track', 'w')\n",
        "\t"
      ],
      "metadata": {
        "id": "pPT2I8hKsO_b"
      },
      "execution_count": 10,
      "outputs": []
    },
    {
      "cell_type": "code",
      "source": [
        "def summarize_performance(step, g_model, d_model, gan_model, weight_folder):\n",
        "\t# select a sample of input images\n",
        "\t\n",
        "\t# save the generator model\n",
        "\tg_model_filename = weight_folder + '/g_model_%06d.h5' % (step+1)\n",
        "\tg_model.save(g_model_filename)\n",
        "\tprint('>Saved: %s' % ( g_model_filename))\n",
        "\n",
        "\t# save the discriminator model\n",
        "\td_model_filename = weight_folder + '/d_model_%06d.h5' % (step+1)\n",
        "\td_model.save(d_model_filename)\n",
        "\tprint('>Saved: %s' % (d_model_filename))\n",
        "\n",
        "\t# save the gan model\n",
        "\tgan_model_filename = weight_folder + '/gan_model_%06d.h5' % (step+1)\n",
        "\tgan_model.save(gan_model_filename)\n",
        "\tprint('>Saved: %s' % ( gan_model_filename))\n"
      ],
      "metadata": {
        "id": "f2BYiSSAFz_7"
      },
      "execution_count": 45,
      "outputs": []
    },
    {
      "cell_type": "code",
      "source": [
        "import tensorflow as tf\n",
        "from os import listdir\n",
        "from numpy import asarray, load\n",
        "from numpy import vstack\n",
        "from keras.preprocessing.image import img_to_array\n",
        "from keras.preprocessing.image import load_img\n",
        "from numpy import savez_compressed\n",
        "from matplotlib import pyplot\n",
        "import numpy as np\n",
        "from PIL import Image, ImageOps"
      ],
      "metadata": {
        "id": "f-a-TTTXsS1Q"
      },
      "execution_count": 46,
      "outputs": []
    },
    {
      "cell_type": "code",
      "source": [
        "# This function will create a list of image path\n",
        "def generate_image_path_list(folder_name):\n",
        "  path_list = list() \n",
        "  for filename in listdir(folder_name):\n",
        "    path_list.append(filename)\n",
        "  return path_list"
      ],
      "metadata": {
        "id": "zTgocus6n6IW"
      },
      "execution_count": 47,
      "outputs": []
    },
    {
      "cell_type": "code",
      "source": [
        "# load all images in a directory into memory\n",
        "def load_images(im_indecator, im_path_list, im_path, batch_size, size=(256,256)):\n",
        "\tsrc_list, tar_list = list(), list()\n",
        "\t# enumerate filenames in directory, assume all are images\n",
        "\t# for filename in listdir(path):\n",
        "\tif ((im_indecator + batch_size) > len(im_path_list)):\n",
        "\t\tbatch_size = len(im_path_list) - im_indecator\n",
        "\tfor j in range(batch_size):\n",
        "\n",
        "\t\t# load and resize the image\n",
        "\t\t#pixels = load_img(path + filename, target_size=size)\n",
        "\t\trgb_image = load_img(path + im_path_list[im_indecator+j], target_size=size)\n",
        "\t\t#gray_image = ImageOps.grayscale(rgb_image)\n",
        "\t\t# gray_image = tf.image.rgb_to_grayscale(rgb_image)\n",
        "\t\t# convert to numpy array\n",
        "\t\trgb_pixels = img_to_array(rgb_image)\n",
        "\t\n",
        "\t\t#-----lab conversion--------#\n",
        "\t\trgb_pixels = rgb_pixels/255.0\n",
        "\t\tlab = tfio.experimental.color.rgb_to_lab(rgb_pixels)\n",
        "\t\tlab_pixels = (lab)/100.0\n",
        "\n",
        "\t\t\n",
        "\n",
        "\t\t# rgb_np_array = np.array(rgb_pixels, dtype=float)\n",
        "\t\t# lab_pixels = rgb2lab(1.0/255*rgb_np_array)\n",
        "\n",
        "\n",
        "\n",
        "\t\tgray_pixels = lab_pixels[:,:,0]\n",
        "\t\tgray_pixels = np.expand_dims(gray_pixels, axis=2)\n",
        "\t\tab_pixels = lab_pixels[:,:,1:]\n",
        "\n",
        "\n",
        "\t\t# gray_pixels = img_to_array(gray_image)\n",
        "\t\t# split into satellite and map\n",
        "\t\t#sat_img, map_img = pixels[:, :256], pixels[:, 256:]\n",
        "\t\tsrc_list.append(gray_pixels)\n",
        "\t\ttar_list.append(ab_pixels)\n",
        "\treturn [asarray(src_list), asarray(tar_list)]"
      ],
      "metadata": {
        "id": "GFWXevsvsVqS"
      },
      "execution_count": 48,
      "outputs": []
    },
    {
      "cell_type": "code",
      "execution_count": null,
      "metadata": {
        "id": "ze6ujX1-xoxE"
      },
      "outputs": [],
      "source": [
        "\n",
        "# def preprocess_data(data):\n",
        "# \t# load compressed arrays\n",
        "# \t# unpack arrays\n",
        "# \tX1, X2 = data[0], data[1]\n",
        "# \t# scale from [0,255] to [-1,1]\n",
        "# \tX1 = (X1 - 127.5) / 127.5\n",
        "# \tX2 = (X2 - 127.5) / 127.5\n",
        "# \treturn [X1, X2]\n",
        "\n"
      ]
    },
    {
      "cell_type": "code",
      "source": [
        "\n",
        "\n",
        "# train pix2pix models\n",
        "# def train(d_model, g_model, gan_model, dataset, n_epochs=100, n_batch=1):\n",
        "\n",
        "def train(d_model, g_model, gan_model, im_path_list, im_path, weight_folder, save_weight_file_after = 10, n_epochs=100, n_batch=1):\n",
        "\t\"\"\"This function is used to train the GAN\n",
        "\n",
        "\tArgs:\n",
        "\t\td_model (keras model): discriminator model\n",
        "\t\tg_model (keras model): generator model\n",
        "\t\tgan_model (keras model): combine of d_model and g_model or GAN\n",
        "\t\tim_path_list (list): this will contain all image name in the dataset(main image) folder\n",
        "\t\tim_path (string): dataset path or image path \n",
        "\t\tweight_folder (string): folder to save weight file\n",
        "\t\tsave_weight_file_after (int, optional): number of epoch to save weight file. mane koita wpoch er por weight file save korbe. Defaults to 10.\n",
        "\t\tn_epochs (int, optional): Total number of epoch. Defaults to 100.\n",
        "\t\tn_batch (int, optional): number of batch. Defaults to 1.\n",
        "\t\"\"\"\n",
        "\n",
        "\n",
        "\t# determine the output square shape of the discriminator\n",
        "\tn_patch = d_model.output_shape[1]\n",
        "\t# unpack dataset\n",
        "\t# trainA, trainB = dataset\n",
        "\t# calculate the number of batches per training epoch\n",
        "\t# bat_per_epo = int(len(trainA) / n_batch)\n",
        "\t# calculate the number of training iterations\n",
        "\t# n_steps = bat_per_epo * n_epochs\n",
        "\t# manually enumerate epochs\n",
        "\ttotal_image = len(im_path_list);\n",
        "\td1_loss_list = list()\n",
        "\td2_loss_list = list()\n",
        "\tg_loss_list = list()\n",
        "\n",
        "\tfor i in range(n_epochs):\n",
        "\t\tim_indicator = 0 # Track of current image\n",
        "\t\twhile (im_indicator < total_image):\n",
        "\t\t\t\t# [src_images, tar_images]  = load_images(im_indicator, im_path_list = im_path_list, im_path = im_path, batch_size = n_batch)\n",
        "\t\t\t\t# dataset = preprocess_data([src_images, tar_images])\n",
        "\t\t\t\tdataset  = load_images(im_indicator, im_path_list = im_path_list, im_path = im_path, batch_size = n_batch)\n",
        "\t\t\t\t\n",
        "\t\t\t\ttrainA, trainB = dataset\n",
        "\n",
        "\t\t\t\tim_indicator = im_indicator + n_batch\n",
        "\n",
        "\n",
        "\t\t\t\t# select a batch of real samples\n",
        "\t\t\t\t[X_realA, X_realB], y_real = generate_real_samples(dataset, n_batch, n_patch)\n",
        "\t\t\t\t# generate a batch of fake samples\n",
        "\t\t\t\tX_fakeB, y_fake = generate_fake_samples(g_model, X_realA, n_patch)\n",
        "\t\t\t\t# update discriminator for real samples\n",
        "\t\t\t\td_loss1 = d_model.train_on_batch([X_realA, X_realB], y_real)\n",
        "\t\t\t\td1_loss_list.append(d_loss1)\n",
        "\t\t\t\t# update discriminator for generated samples\n",
        "\t\t\t\td_loss2 = d_model.train_on_batch([X_realA, X_fakeB], y_fake)\n",
        "\t\t\t\td2_loss_list.append(d_loss2)\n",
        "\t\t\t\t# update the generator\n",
        "\t\t\t\tg_loss, _, _ = gan_model.train_on_batch(X_realA, [y_real, X_realB])\n",
        "\t\t\t\tg_loss_list.append(g_loss)\n",
        "\t\t\t\t# summarize performance\n",
        "\t\t\t\tprint('>epoch: %d, batch: %d, d1[%.3f] d2[%.3f] g[%.3f]' % (i+1,im_indicator/n_batch, d_loss1, d_loss2, g_loss))\n",
        "\t\t\t\t# summarize model performance\n",
        "\t\tif (i+1) %  save_weight_file_after == 0:\n",
        "\n",
        "\t\t\t# [src_images, tar_images]  = load_images(im_indicator- n_batch , im_path_list = im_path_list, im_path = im_path, batch_size = n_batch)\n",
        "\t\t\t# dataset = preprocess_data([src_images, tar_images])\n",
        "\t\t\tsummarize_performance(i, g_model = g_model, d_model = d_model, gan_model = gan_model, weight_folder = weight_folder)"
      ],
      "metadata": {
        "id": "dFvi_tIAykjq"
      },
      "execution_count": 49,
      "outputs": []
    },
    {
      "cell_type": "code",
      "source": [
        "# \"\"\"Checking the load_images function...ignore\"\"\"\n",
        "\n",
        "\n",
        "\n",
        "\n",
        "# path = '/content/gdrive/MyDrive/3200_Project/Project/Zahim_folder/New_Image/'\n",
        "# path_list = generate_image_path_list(path)\n",
        "# # load dataset\n",
        "# [src_images, tar_images] = load_images(im_indecator = 0, im_path_list = path_list, im_path = path, batch_size = 1, size=(256,256))\n",
        "# print('Loaded: ', src_images.shape, tar_images.shape)\n",
        "\n",
        "\n",
        "# n_samples = 1\n",
        "# for i in range(n_samples):\n",
        "# \tpyplot.subplot(2, n_samples, 1 + i)\n",
        "# \tpyplot.axis('off')\n",
        "# \tre = np.squeeze(src_images[i])\n",
        "# \tpyplot.imshow(re.astype('uint8'),'gray')\n",
        "# # plot target image\n",
        "# for i in range(n_samples):\n",
        "# \tpyplot.subplot(2, n_samples, 1 + n_samples + i)\n",
        "# \tpyplot.axis('off')\n",
        "# \tpyplot.imshow(tar_images[i].astype('uint8'))\n",
        "# pyplot.show()\n",
        "\n",
        "#######################################\n",
        "\n"
      ],
      "metadata": {
        "id": "aYRJxFqHsZSn"
      },
      "execution_count": 50,
      "outputs": []
    },
    {
      "cell_type": "code",
      "source": [
        "#from pix2pix_model import define_discriminator, define_generator, define_gan, train\n",
        "# define input shape based on the loaded dataset\n",
        "# input_image_shape = src_images.shape[1:]\n",
        "# output_image_shape = tar_images.shape[1:]\n",
        "input_image_shape = (256,256,1)\n",
        "output_image_shape = (256,256,2)\n",
        "# define the models\n",
        "d_model = define_discriminator(input_image_shape,output_image_shape)\n",
        "g_model = define_generator(input_image_shape,output_image_shape)\n",
        "# define the composite model\n",
        "gan_model = define_gan(g_model, d_model, input_image_shape)\n",
        "\n",
        "#Define data\n",
        "# load and prepare training images\n",
        "# data = [src_images, tar_images]"
      ],
      "metadata": {
        "id": "hgA8EdD1pP2k",
        "colab": {
          "base_uri": "https://localhost:8080/"
        },
        "outputId": "2e27d7d2-05c3-4bc9-bbb3-f50fb1b0b8d0"
      },
      "execution_count": 51,
      "outputs": [
        {
          "output_type": "stream",
          "name": "stderr",
          "text": [
            "/usr/local/lib/python3.7/dist-packages/keras/optimizer_v2/adam.py:105: UserWarning: The `lr` argument is deprecated, use `learning_rate` instead.\n",
            "  super(Adam, self).__init__(name, **kwargs)\n"
          ]
        }
      ]
    },
    {
      "cell_type": "code",
      "source": [
        "# trainA, trainB = dataset\n",
        "# trainA[12].shape"
      ],
      "metadata": {
        "id": "1_k6qIMGKCiL"
      },
      "execution_count": 52,
      "outputs": []
    },
    {
      "cell_type": "code",
      "source": [
        "# dataset = preprocess_data(data)"
      ],
      "metadata": {
        "id": "xWbGlX7_Gj1n"
      },
      "execution_count": 53,
      "outputs": []
    },
    {
      "cell_type": "code",
      "source": [
        "path = '/content/gdrive/MyDrive/3200_Project/Project/Zahim_folder/New_Image/'\n",
        "weight_folder = '/content/gdrive/MyDrive/Thesis/Lab/weight_test'\n",
        "path_list = generate_image_path_list(path)"
      ],
      "metadata": {
        "id": "8Bn-wyOspX3Y"
      },
      "execution_count": 54,
      "outputs": []
    },
    {
      "cell_type": "code",
      "source": [
        "from datetime import datetime \n",
        "start1 = datetime.now() \n",
        "\n",
        "# train(d_model, g_model, gan_model, dataset, n_epochs=150, n_batch=1) \n",
        "train(d_model, g_model, gan_model, im_path_list = path_list, im_path = path, weight_folder = weight_folder, n_epochs=100, n_batch=7)\n",
        "stop1 = datetime.now()\n",
        "#Execution time of the model \n",
        "execution_time = stop1-start1\n",
        "print(\"Execution time is: \", execution_time)\n"
      ],
      "metadata": {
        "colab": {
          "base_uri": "https://localhost:8080/"
        },
        "id": "6MbNYT-UzBPP",
        "outputId": "842da327-138a-4753-f23e-19774e98fff1"
      },
      "execution_count": null,
      "outputs": [
        {
          "output_type": "stream",
          "name": "stdout",
          "text": [
            ">epoch: 1, batch: 1, d1[0.419] d2[0.991] g[21.159]\n",
            ">epoch: 1, batch: 2, d1[0.366] d2[0.754] g[21.335]\n",
            ">epoch: 1, batch: 3, d1[0.358] d2[0.576] g[17.440]\n",
            ">epoch: 1, batch: 4, d1[0.433] d2[0.489] g[21.239]\n",
            ">epoch: 1, batch: 5, d1[0.350] d2[0.450] g[16.525]\n",
            ">epoch: 1, batch: 6, d1[0.362] d2[0.383] g[14.153]\n",
            ">epoch: 1, batch: 7, d1[0.387] d2[0.386] g[9.331]\n",
            ">epoch: 1, batch: 8, d1[0.341] d2[0.359] g[8.323]\n",
            ">epoch: 1, batch: 9, d1[0.334] d2[0.363] g[7.764]\n"
          ]
        }
      ]
    },
    {
      "cell_type": "code",
      "source": [
        "#Test trained model on image...\n",
        "\n",
        "from keras.models import load_model\n",
        "from numpy.random import randint\n",
        "model = load_model('/content/gdrive/MyDrive/Thesis/Lab/weight_on_PASCAL/LAB/weight_file/g_model_000100.h5')"
      ],
      "metadata": {
        "id": "dFwiOsNt8Iw_",
        "colab": {
          "base_uri": "https://localhost:8080/"
        },
        "outputId": "d522f09c-e246-46a9-8e61-2b4cdeaef006"
      },
      "execution_count": 34,
      "outputs": [
        {
          "output_type": "stream",
          "name": "stderr",
          "text": [
            "WARNING:tensorflow:No training configuration found in the save file, so the model was *not* compiled. Compile it manually.\n"
          ]
        }
      ]
    },
    {
      "cell_type": "code",
      "source": [
        "# load all images in a directory into memory\n",
        "def load_images(path, size=(256,256)):\n",
        "  src_list, tar_list = list(), list()\n",
        "  if( path[-1:] != '/'):\n",
        "    # load and resize the image\n",
        "\t\t#pixels = load_img(path + filename, target_size=size)\n",
        "    rgb_image = load_img(path, target_size=size)\n",
        "\t\t#gray_image = ImageOps.grayscale(rgb_image)\n",
        "\t\t# gray_image = tf.image.rgb_to_grayscale(rgb_image)\n",
        "\t\t# convert to numpy array\n",
        "    rgb_pixels = img_to_array(rgb_image)\n",
        "    # rgb_np_array = np.array(rgb_pixels, dtype=float)\n",
        "    # lab_pixels = rgb2lab(1.0/255*rgb_np_array)\n",
        "    \n",
        "    #-----lab conversion------#\n",
        "    rgb_pixels = rgb_pixels/255.0\n",
        "    # rgb_pixels = tf.image.convert_image_dtype(rgb_pixels, dtype=tf.float32) # to normalize the rgb pixels\n",
        "    lab = tfio.experimental.color.rgb_to_lab(rgb_pixels)\n",
        "    lab_pixels = (lab)/100.0\n",
        "\n",
        "    gray_pixels = lab_pixels[:,:,0]\n",
        "    gray_pixels = np.expand_dims(gray_pixels, axis=2)\n",
        "    # gray_pixels = np.squeeze(gray_pixels)\n",
        "    ab_pixels = lab_pixels[:,:,1:]\n",
        "\n",
        "\n",
        "\t\t# gray_pixels = img_to_array(gray_image)\n",
        "\t\t# split into satellite and map\n",
        "\t\t#sat_img, map_img = pixels[:, :256], pixels[:, 256:]\n",
        "    src_list.append(gray_pixels)\n",
        "    tar_list.append(ab_pixels)\n",
        "    return [asarray(src_list), asarray(tar_list)]\n",
        "  # enumerate filenames in directory, assume all are images\n",
        "  for filename in listdir(path):\n",
        "\t\t# load and resize the image\n",
        "\t\t#pixels = load_img(path + filename, target_size=size)\n",
        "    rgb_image = load_img(path + filename, target_size=size)\n",
        "    # rgb_image = load_img(path, target_size=size)\n",
        "\t\t#gray_image = ImageOps.grayscale(rgb_image)\n",
        "\t\t# gray_image = tf.image.rgb_to_grayscale(rgb_image)\n",
        "\t\t# convert to numpy array\n",
        "    rgb_pixels = img_to_array(rgb_image)\n",
        "    rgb_np_array = np.array(rgb_pixels, dtype=float)\n",
        "    # lab_pixels = rgb2lab(1.0/255*rgb_np_array)\n",
        "\n",
        "    #-----lab conversion------#\n",
        "    rgb_pixels = rgb_pixels/255.0\n",
        "    # rgb_pixels = tf.image.convert_image_dtype(rgb_pixels, dtype=tf.float32) # to normalize the rgb pixels\n",
        "    lab = tfio.experimental.color.rgb_to_lab(rgb_pixels)\n",
        "    lab_pixels = (lab)/100.0\n",
        "\n",
        "\n",
        "    gray_pixels = lab_pixels[:,:,0]\n",
        "    gray_pixels = np.expand_dims(gray_pixels, axis=2)\n",
        "    # gray_pixels = np.squeeze(gray_pixels)\n",
        "    ab_pixels = lab_pixels[:,:,1:]\n",
        "\n",
        "\n",
        "\t\t# gray_pixels = img_to_array(gray_image)\n",
        "\t\t# split into satellite and map\n",
        "\t\t#sat_img, map_img = pixels[:, :256], pixels[:, 256:]\n",
        "    src_list.append(gray_pixels)\n",
        "    tar_list.append(ab_pixels)\n",
        "  \n",
        "  return [asarray(src_list), asarray(tar_list)]"
      ],
      "metadata": {
        "id": "uhUDPg-xt3mB"
      },
      "execution_count": 41,
      "outputs": []
    },
    {
      "cell_type": "code",
      "source": [
        "import tensorflow_io as tfio\n",
        "rgb_image = load_img('/content/gdrive/MyDrive/Thesis/Dataset/test/few_image/20057.jpg', target_size=(256,256))\n",
        "#gray_image = ImageOps.grayscale(rgb_image)\n",
        "# gray_image = tf.image.rgb_to_grayscale(rgb_image)\n",
        "# convert to numpy array\n",
        "rgb_pixels = img_to_array(rgb_image)\n",
        "rgb_pixels = rgb_pixels/255.0\n",
        "# rgb_pixels = tf.image.convert_image_dtype(rgb_pixels, dtype=tf.float32) # to normalize the rgb pixels\n",
        "lab = tfio.experimental.color.rgb_to_lab(rgb_pixels)\n",
        "lab_pixel = (lab)/100.0\n",
        "# rgb_np_array = np.array(rgb_pixels, dtype=float)\n",
        "\n",
        "src = lab_pixel[:,:,0]\n",
        "src = np.expand_dims(src, axis=2)\n",
        "tar = lab_pixel[:,:,1:]\n",
        "print(src.shape)\n",
        "lab_gen = np.concatenate([src,tar],axis = 2)\n",
        "\n",
        "lab_gen = (lab_gen*100)\n",
        "rgb = tfio.experimental.color.lab_to_rgb(lab_gen)\n",
        "rgb = np.array(rgb)\n",
        "# print(rgb)\n",
        "print(np.array(lab_pixel).max())\n",
        "pyplot.imshow(rgb,'gray')\n",
        "# lab_pixels = rgb2lab(1.0/255*rgb_np_array)\n",
        "# gray_pixels = lab_pixels[:,:,0]\n",
        "# ab_pixels = lab_pixels[:,:,1:]"
      ],
      "metadata": {
        "colab": {
          "base_uri": "https://localhost:8080/",
          "height": 321
        },
        "id": "fuiIuXrCTylL",
        "outputId": "fb6ae903-3655-487c-fb4f-b75a6f4fff10"
      },
      "execution_count": 40,
      "outputs": [
        {
          "output_type": "stream",
          "name": "stdout",
          "text": [
            "(256, 256, 1)\n",
            "1.0\n"
          ]
        },
        {
          "output_type": "execute_result",
          "data": {
            "text/plain": [
              "<matplotlib.image.AxesImage at 0x7f5f0209f4d0>"
            ]
          },
          "metadata": {},
          "execution_count": 40
        },
        {
          "output_type": "display_data",
          "data": {
            "text/plain": [
              "<Figure size 432x288 with 1 Axes>"
            ],
            "image/png": "[encoded data removed]"
          },
          "metadata": {
            "needs_background": "light"
          }
        }
      ]
    },
    {
      "cell_type": "code",
      "source": [
        "# test_data = load_images('/content/gdrive/MyDrive/Thesis/Dataset/test/few_image/20056.jpg')\n",
        "src_image, tar_image = load_images('/content/gdrive/MyDrive/Thesis/Dataset/test/few_image/20056.jpg')\n",
        "# src_image, tar_image = preprocess_data(test_data)"
      ],
      "metadata": {
        "id": "AU-XvRNR9mey"
      },
      "execution_count": 42,
      "outputs": []
    },
    {
      "cell_type": "code",
      "source": [
        "print(src_image.shape)\n",
        "\n",
        "src_image = np.squeeze(src_image)"
      ],
      "metadata": {
        "colab": {
          "base_uri": "https://localhost:8080/"
        },
        "id": "Ik8wCMaqal_E",
        "outputId": "682adb32-969c-4713-d8fc-e6219ac30e92"
      },
      "execution_count": 43,
      "outputs": [
        {
          "output_type": "stream",
          "name": "stdout",
          "text": [
            "(1, 256, 256, 1)\n"
          ]
        }
      ]
    },
    {
      "cell_type": "code",
      "source": [
        "gen_image = model.predict(src_image)"
      ],
      "metadata": {
        "id": "UsP28_rUOp7X",
        "colab": {
          "base_uri": "https://localhost:8080/",
          "height": 165
        },
        "outputId": "5b7c7783-339b-4d6c-a475-5c3d32e6d4fc"
      },
      "execution_count": 33,
      "outputs": [
        {
          "output_type": "error",
          "ename": "NameError",
          "evalue": "ignored",
          "traceback": [
            "\u001b[0;31m---------------------------------------------------------------------------\u001b[0m",
            "\u001b[0;31mNameError\u001b[0m                                 Traceback (most recent call last)",
            "\u001b[0;32m<ipython-input-33-a04f6fd06168>\u001b[0m in \u001b[0;36m<module>\u001b[0;34m\u001b[0m\n\u001b[0;32m----> 1\u001b[0;31m \u001b[0mgen_image\u001b[0m \u001b[0;34m=\u001b[0m \u001b[0mmodel\u001b[0m\u001b[0;34m.\u001b[0m\u001b[0mpredict\u001b[0m\u001b[0;34m(\u001b[0m\u001b[0msrc_image\u001b[0m\u001b[0;34m)\u001b[0m\u001b[0;34m\u001b[0m\u001b[0;34m\u001b[0m\u001b[0m\n\u001b[0m",
            "\u001b[0;31mNameError\u001b[0m: name 'model' is not defined"
          ]
        }
      ]
    },
    {
      "cell_type": "code",
      "source": [
        "def result_show(test_data,filename):\n",
        "    src_image, tar_image = test_data\n",
        "    # generate image from source\n",
        "    gen_image = model.predict(src_image)\n",
        "    print(src_image.shape)\n",
        "    # src_image = src_image[:,:,:]\n",
        "    # src_image = np.squeeze(src_image)\n",
        "    src_image = src_image.reshape((256,256,1))\n",
        "    print(src_image.shape)\n",
        "    gen_image = np.squeeze(gen_image)\n",
        "\n",
        "    gen_Lab = np.concatenate([src_image, gen_image],axis = 2)\n",
        "    gen_rgb = lab2rgb(gen_Lab)\n",
        "    gen_rgb = np.array(gen_rgb).astype('uint8')\n",
        "\n",
        "    tar_image = tar_image[0,:,:,:]\n",
        "    print(gen_image.shape,src_image.shape,tar_image.shape)\n",
        "    tar_Lab = np.concatenate([src_image, tar_image],axis = 2)\n",
        "    tar_rgb = lab2rgb(tar_Lab)\n",
        "    tar_rgb = np.array(tar_rgb).astype('uint8')\n",
        "\n",
        "    save_path = 'D:\\Thesis\\output\\hsv_PASCAL_VOC_g100\\\\'+filename\n",
        "    \n",
        "\n",
        "    # plot all three images\n",
        "    # plot_images(src_image, gen_rgb, tar_rgb,save_path)\n",
        "    plot_whole_images(src_image, gen_rgb, tar_rgb,save_path)\n"
      ],
      "metadata": {
        "id": "FSEDHrmUQoru"
      },
      "execution_count": null,
      "outputs": []
    },
    {
      "cell_type": "code",
      "source": [
        "# plot source, generated and target images\n",
        "def plot_whole_images(src_img, gen_img, tar_img,path):\n",
        "  \n",
        "  # images = vstack(( gen_img, tar_img))\n",
        "  #images = src_img\n",
        "  # scale from [-1,1] to [0,1]\n",
        "  # images = (images + 1) / 2.0\n",
        "  p, ax = pyplot.subplots(1,3)\n",
        "  titles = ['Source', 'Generated', 'Expected']\n",
        "  # ax[0].subplot(1,3)\n",
        "  ax[0].axis('off')\n",
        "  src_image = np.squeeze(src_img)\n",
        "  ax[0].imshow(src_image,'gray')\n",
        "  # ax[0].title(titles[0])\n",
        "\n",
        "  # ax[1].subplot(1,3,2)\n",
        "  ax[1].axis('off')\n",
        "  # re = np.squeeze(gen_image)\n",
        "  ax[1].imshow(gen_img,'gray')\n",
        "  # ax[1].title(titles[1])\n",
        "\n",
        "  # ax[2].subplot(1,3,3)\n",
        "  ax[2].axis('off')\n",
        "  # re = np.squeeze(tar_image)\n",
        "  ax[2].imshow(tar_img,'gray')\n",
        "  # ax[2].title(titles[2])\n",
        "\n",
        "  '''# plot images row by row\n",
        "  for i in range(len(images)):\n",
        "    \n",
        "    # define subplot\n",
        "    pyplot.subplot(1, 3, 2 + i)# turn off axis\n",
        "    pyplot.axis('off')# plot raw pixel data\n",
        "    pyplot.imshow(images[i])# show title\n",
        "    pyplot.title(titles[i+1])\n",
        "  print(images.shape)'''\n",
        "  # pyplot.subplot(1,3,1)\n",
        "  # pyplot.imshow(images[0,:,:,:])\n",
        "  # cv2.imwrite(filename,)\n",
        "  # img = pyplot.show()\n",
        "  # plt.imsave(path,img)\n",
        "  # p.savefig(path)\n"
      ],
      "metadata": {
        "id": "ctX0Z4vJ73ZL"
      },
      "execution_count": null,
      "outputs": []
    },
    {
      "cell_type": "code",
      "source": [
        "result_show(test_data,\"sdfhkjsdf\")"
      ],
      "metadata": {
        "colab": {
          "base_uri": "https://localhost:8080/",
          "height": 181
        },
        "id": "itJnfvX2RfT1",
        "outputId": "da81db29-f53a-4543-fe48-aa5731864a88"
      },
      "execution_count": null,
      "outputs": [
        {
          "output_type": "stream",
          "name": "stdout",
          "text": [
            "(1, 256, 256)\n",
            "(256, 256, 1)\n",
            "(256, 256, 2) (256, 256, 1) (256, 256, 2)\n"
          ]
        },
        {
          "output_type": "display_data",
          "data": {
            "text/plain": [
              "<Figure size 432x288 with 3 Axes>"
            ],
            "image/png": "[encoded data removed]"
          },
          "metadata": {
            "needs_background": "light"
          }
        }
      ]
    },
    {
      "cell_type": "code",
      "source": [
        "def postprocess_data(data):\n",
        "\t# load compressed arrays\n",
        "\t# unpack arrays\n",
        "\t# X1, X2 = data[0], data[1]\n",
        "\t# scale from [0,255] to [-1,1]\n",
        "\tX1 = (data * 127.5) + 127.5\n",
        "\t# X2 = (X2 - 127.5) / 127.5\n",
        "\treturn X1"
      ],
      "metadata": {
        "id": "jMyaoEsPXKTL"
      },
      "execution_count": null,
      "outputs": []
    },
    {
      "cell_type": "code",
      "source": [
        "gen_Lab = np.concatenate([src_image.reshape(256,256,1), tar_image[0,:,:,:]],axis = 2)\n",
        "gen_Lab = lab2rgb(gen_Lab)\n",
        "gen_Lab = postprocess_data(gen_Lab)\n",
        "plt.imshow(gen_Lab,'gray')"
      ],
      "metadata": {
        "colab": {
          "base_uri": "https://localhost:8080/",
          "height": 324
        },
        "id": "HH1CVPW77e5c",
        "outputId": "ae61fc74-52c6-47a0-ea7a-5cc7420db197"
      },
      "execution_count": null,
      "outputs": [
        {
          "output_type": "stream",
          "name": "stderr",
          "text": [
            "WARNING:matplotlib.image:Clipping input data to the valid range for imshow with RGB data ([0..1] for floats or [0..255] for integers).\n"
          ]
        },
        {
          "output_type": "execute_result",
          "data": {
            "text/plain": [
              "<matplotlib.image.AxesImage at 0x7f407b419e90>"
            ]
          },
          "metadata": {},
          "execution_count": 59
        },
        {
          "output_type": "display_data",
          "data": {
            "text/plain": [
              "<Figure size 432x288 with 1 Axes>"
            ],
            "image/png": "[encoded data removed]"
          },
          "metadata": {
            "needs_background": "light"
          }
        }
      ]
    },
    {
      "cell_type": "code",
      "source": [
        "gen_Lab.shape"
      ],
      "metadata": {
        "id": "9GlFI0Xs7fvm",
        "colab": {
          "base_uri": "https://localhost:8080/"
        },
        "outputId": "8e1ff544-0f8f-4dfc-e284-288eedb563ae"
      },
      "execution_count": null,
      "outputs": [
        {
          "output_type": "execute_result",
          "data": {
            "text/plain": [
              "(256, 256, 3)"
            ]
          },
          "metadata": {},
          "execution_count": 52
        }
      ]
    },
    {
      "cell_type": "code",
      "source": [
        "gen_Lab.min()"
      ],
      "metadata": {
        "colab": {
          "base_uri": "https://localhost:8080/"
        },
        "id": "zFhcLisaS-oQ",
        "outputId": "74f366aa-0799-46b1-8693-31ed4d7b4a4f"
      },
      "execution_count": null,
      "outputs": [
        {
          "output_type": "execute_result",
          "data": {
            "text/plain": [
              "127.5"
            ]
          },
          "metadata": {},
          "execution_count": 61
        }
      ]
    },
    {
      "cell_type": "code",
      "source": [],
      "metadata": {
        "id": "60LiRIl-TBQa"
      },
      "execution_count": null,
      "outputs": []
    }
  ]
}