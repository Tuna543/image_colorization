{
  "cells": [
    {
      "cell_type": "code",
      "execution_count": 1,
      "metadata": {
        "colab": {
          "base_uri": "https://localhost:8080/"
        },
        "id": "BtzJSLqv1B5R",
        "outputId": "666e6dbe-a34f-42af-e45f-5c418ac10a8c"
      },
      "outputs": [],
      "source": [
        "# from google.colab import drive\n",
        "# drive.mount('/content/gdrive')"
      ]
    },
    {
      "cell_type": "code",
      "execution_count": 52,
      "metadata": {
        "id": "4B-QHaSQr4p6"
      },
      "outputs": [],
      "source": [
        "from numpy import zeros\n",
        "from numpy import ones\n",
        "from numpy.random import randint\n",
        "from tensorflow.keras.optimizers import Adam\n",
        "from keras.initializers import RandomNormal\n",
        "from keras.models import Model\n",
        "from tensorflow.keras import Input\n",
        "from keras.layers import Conv2D\n",
        "from keras.layers import Conv2DTranspose\n",
        "from keras.layers import LeakyReLU\n",
        "from keras.layers import Activation\n",
        "from keras.layers import Concatenate\n",
        "from keras.layers import Dropout\n",
        "from keras.layers import BatchNormalization\n",
        "from matplotlib import pyplot as plt\n",
        "from tensorflow.keras.utils import plot_model\n",
        "from skimage.color import rgb2lab, lab2rgb, rgb2gray, xyz2lab\n",
        "from datetime import datetime"
      ]
    },
    {
      "cell_type": "code",
      "execution_count": 53,
      "metadata": {
        "id": "C7gUEFXIr7Er"
      },
      "outputs": [],
      "source": [
        "def define_discriminator(input_image_shape,output_image_shape):\n",
        "    \n",
        "\t# weight initialization\n",
        "\tinit = RandomNormal(stddev=0.02) #As described in the original paper\n",
        "    \n",
        "\t# source image input\n",
        "\tin_src_image = Input(shape=input_image_shape)  #Image we want to convert to another image\n",
        "\t# target image input\n",
        "\tin_target_image = Input(shape=output_image_shape)  #Image we want to generate after training. \n",
        "    \n",
        "\t# concatenate images, channel-wise\n",
        "\tmerged = Concatenate()([in_src_image, in_target_image])\n",
        "    \n",
        "\t# C64: 4x4 kernel Stride 2x2\n",
        "\td = Conv2D(64, (4,4), strides=(2,2), padding='same', kernel_initializer=init)(merged)\n",
        "\td = LeakyReLU(alpha=0.2)(d)\n",
        "\t# C128: 4x4 kernel Stride 2x2\n",
        "\td = Conv2D(128, (4,4), strides=(2,2), padding='same', kernel_initializer=init)(d)\n",
        "\td = BatchNormalization()(d)\n",
        "\td = LeakyReLU(alpha=0.2)(d)\n",
        "\t# C256: 4x4 kernel Stride 2x2\n",
        "\td = Conv2D(256, (4,4), strides=(2,2), padding='same', kernel_initializer=init)(d)\n",
        "\td = BatchNormalization()(d)\n",
        "\td = LeakyReLU(alpha=0.2)(d)\n",
        "\t# second last output layer : 4x4 kernel but Stride 1x1\n",
        "\td = Conv2D(512, (4,4), padding='same', kernel_initializer=init)(d)\n",
        "\td = BatchNormalization()(d)\n",
        "\td = LeakyReLU(alpha=0.2)(d)\n",
        "\t# patch output\n",
        "\td = Conv2D(1, (4,4), padding='same', kernel_initializer=init)(d)\n",
        "\tpatch_out = Activation('sigmoid')(d)\n",
        "\t# define model\n",
        "\tmodel = Model([in_src_image, in_target_image], patch_out)\n",
        "    \n",
        "\topt = Adam(lr=0.0002, beta_1=0.5)\n",
        "\tmodel.compile(loss='binary_crossentropy', optimizer=opt, loss_weights=[0.5])\n",
        "\treturn model"
      ]
    },
    {
      "cell_type": "code",
      "execution_count": 54,
      "metadata": {
        "id": "Ji_QN4Pdr_l1"
      },
      "outputs": [],
      "source": [
        "\n",
        "def define_encoder_block(layer_in, n_filters, batchnorm=True):\n",
        "\t# weight initialization\n",
        "\tinit = RandomNormal(stddev=0.02)\n",
        "\t# add downsampling layer\n",
        "\tg = Conv2D(n_filters, (4,4), strides=(2,2), padding='same', kernel_initializer=init)(layer_in)\n",
        "\t# conditionally add batch normalization\n",
        "\tif batchnorm:\n",
        "\t\tg = BatchNormalization()(g, training=True)\n",
        "\t# leaky relu activation\n",
        "\tg = LeakyReLU(alpha=0.2)(g)\n",
        "\treturn g\n"
      ]
    },
    {
      "cell_type": "code",
      "execution_count": 55,
      "metadata": {
        "id": "11tLem4TsDNV"
      },
      "outputs": [],
      "source": [
        "# define a decoder block to be used in generator\n",
        "def decoder_block(layer_in, skip_in, n_filters, dropout=True):\n",
        "\t# weight initialization\n",
        "\tinit = RandomNormal(stddev=0.02)\n",
        "\t# add upsampling layer\n",
        "\tg = Conv2DTranspose(n_filters, (4,4), strides=(2,2), padding='same', kernel_initializer=init)(layer_in)\n",
        "\t# add batch normalization\n",
        "\tg = BatchNormalization()(g, training=True)\n",
        "\t# conditionally add dropout\n",
        "\tif dropout:\n",
        "\t\tg = Dropout(0.5)(g, training=True)\n",
        "\t# merge with skip connection\n",
        "\tg = Concatenate()([g, skip_in])\n",
        "\t# relu activation\n",
        "\tg = Activation('relu')(g)\n",
        "\treturn g"
      ]
    },
    {
      "cell_type": "code",
      "execution_count": 56,
      "metadata": {
        "id": "7hQeM5B4sFr_"
      },
      "outputs": [],
      "source": [
        "# define the standalone generator model - U-net\n",
        "def define_generator(input_image_shape=(256,256,1),output_image_shape=(256,256,3)):\n",
        "\t# weight initialization\n",
        "\tinit = RandomNormal(stddev=0.02)\n",
        "\t# image input\n",
        "\tin_image = Input(shape=input_image_shape)\n",
        "\t# encoder model: C64-C128-C256-C512-C512-C512-C512-C512\n",
        "\te1 = define_encoder_block(in_image, 64, batchnorm=False)\n",
        "\te2 = define_encoder_block(e1, 128)\n",
        "\te3 = define_encoder_block(e2, 256)\n",
        "\te4 = define_encoder_block(e3, 512)\n",
        "\te5 = define_encoder_block(e4, 512)\n",
        "\te6 = define_encoder_block(e5, 512)\n",
        "\te7 = define_encoder_block(e6, 512)\n",
        "\t# bottleneck, no batch norm and relu\n",
        "\tb = Conv2D(512, (4,4), strides=(2,2), padding='same', kernel_initializer=init)(e7)\n",
        "\tb = Activation('relu')(b)\n",
        "\t# decoder model: CD512-CD512-CD512-C512-C256-C128-C64\n",
        "\td1 = decoder_block(b, e7, 512)\n",
        "\td2 = decoder_block(d1, e6, 512)\n",
        "\td3 = decoder_block(d2, e5, 512)\n",
        "\td4 = decoder_block(d3, e4, 512, dropout=False)\n",
        "\td5 = decoder_block(d4, e3, 256, dropout=False)\n",
        "\td6 = decoder_block(d5, e2, 128, dropout=False)\n",
        "\td7 = decoder_block(d6, e1, 64, dropout=False)\n",
        "\t# output\n",
        "\tg = Conv2DTranspose(output_image_shape[2], (4,4), strides=(2,2), padding='same', kernel_initializer=init)(d7) #Modified \n",
        "\tout_image = Activation('tanh')(g)  #Generates images in the range -1 to 1. So change inputs also to -1 to 1\n",
        "\t# define model\n",
        "\tmodel = Model(in_image, out_image)\n",
        "\treturn model\n"
      ]
    },
    {
      "cell_type": "code",
      "execution_count": 57,
      "metadata": {
        "id": "ddQnRDqHsIYn"
      },
      "outputs": [],
      "source": [
        "# define the combined generator and discriminator model, for updating the generator\n",
        "def define_gan(g_model, d_model, input_image_shape):\n",
        "\t# make weights in the discriminator not trainable\n",
        "\tfor layer in d_model.layers:\n",
        "\t\tif not isinstance(layer, BatchNormalization):\n",
        "\t\t\tlayer.trainable = False\n",
        "            \n",
        "\t# define the source image\n",
        "\tin_src = Input(shape=input_image_shape)\n",
        "\t# suppy the image as input to the generator \n",
        "\tgen_out = g_model(in_src)\n",
        "\t# supply the input image and generated image as inputs to the discriminator\n",
        "\tdis_out = d_model([in_src, gen_out])\n",
        "\t# src image as input, generated image and disc. output as outputs\n",
        "\tmodel = Model(in_src, [dis_out, gen_out])\n",
        "\t# compile model\n",
        "\topt = Adam(lr=0.0002, beta_1=0.5)\n",
        "    \n",
        "\tmodel.compile(loss=['binary_crossentropy', 'mae'], \n",
        "               optimizer=opt, loss_weights=[1,100])\n",
        "\treturn model"
      ]
    },
    {
      "cell_type": "code",
      "execution_count": 58,
      "metadata": {
        "id": "LVT0Yw78sKdL"
      },
      "outputs": [],
      "source": [
        "\n",
        "def generate_real_samples(dataset, n_samples, patch_shape):\n",
        "\t# unpack dataset\n",
        "\ttrainA, trainB = dataset\n",
        "\t# choose random instances\n",
        "\tix = randint(0, trainA.shape[0], n_samples)\n",
        "\t# retrieve selected images\n",
        "\tX1, X2 = trainA[ix], trainB[ix]\n",
        "\t# generate 'real' class labels (1)\n",
        "\ty = ones((n_samples, patch_shape, patch_shape, 1))\n",
        "\treturn [X1, X2], y"
      ]
    },
    {
      "cell_type": "code",
      "execution_count": 59,
      "metadata": {
        "id": "S7VXjPtvsMEL"
      },
      "outputs": [],
      "source": [
        "\n",
        "\n",
        "# generate a batch of images, returns images and targets\n",
        "def generate_fake_samples(g_model, samples, patch_shape):\n",
        "\t# generate fake instance\n",
        "\tX = g_model.predict(samples)\n",
        "\t# create 'fake' class labels (0)\n",
        "\ty = zeros((len(X), patch_shape, patch_shape, 1))\n",
        "\treturn X, y"
      ]
    },
    {
      "cell_type": "code",
      "execution_count": 60,
      "metadata": {
        "id": "pPT2I8hKsO_b"
      },
      "outputs": [],
      "source": [
        "\n",
        "def summarize_performance(step, g_model,d_model,gan_model,weight_folder):\n",
        "\t# select a sample of input images\n",
        "\t# [X_realA, X_realB], _ = generate_real_samples(dataset, n_samples, 1)\n",
        "\t# generate a batch of fake samples\n",
        "\t# X_fakeB, _ = generate_fake_samples(g_model, X_realA, 1)\n",
        "\t# scale all pixels from [-1,1] to [0,1]\n",
        "\t# X_realA = (X_realA + 1) / 2.0\n",
        "\t# X_realB = (X_realB + 1) / 2.0\n",
        "\t# X_fakeB = (X_fakeB + 1) / 2.0\n",
        "\t# plot real source images\n",
        "\t# for i in range(n_samples):\n",
        "\t\t# plt.subplot(3, n_samples, 1 + i)\n",
        "\t\t# plt.axis('off')\n",
        "\t\t# re = np.squeeze(X_realA[i])\n",
        "\t\t# plt.imshow(re,'gray')\n",
        "\t# plot generated target image\n",
        "\t# for i in range(n_samples):\n",
        "\t\t# plt.subplot(3, n_samples, 1 + n_samples + i)\n",
        "\t\t# plt.axis('off')\n",
        "\t\t# plt.imshow(X_fakeB[i])\n",
        "\t# plot real target image\n",
        "\t# for i in range(n_samples):\n",
        "\t\t# plt.subplot(3, n_samples, 1 + n_samples*2 + i)\n",
        "\t\t# plt.axis('off')\n",
        "\t\t# plt.imshow(X_realB[i])\n",
        "\t# save plot to file\n",
        "\t#filename1 = '/content/gdrive/MyDrive/Thesis/Dataset/test/few_image/chkpoint/plot_%06d.png' % (step+1)\n",
        "\t#plt.savefig(filename1)\n",
        "\t#plt.close()\n",
        "\t# save the generator model\n",
        "\tg_model_filename = weight_folder +'/g_model_%06d.h5' % (step+1)\n",
        "\tg_model.save(g_model_filename)\n",
        "\tprint('>Saved: %s' % ( g_model_filename))\n",
        "\n",
        "\t\n",
        "\td_model_filename = weight_folder +'/d_model_%06d.h5' % (step+1)\n",
        "\td_model.save(d_model_filename)\n",
        "\tprint('>Saved: %s' % ( d_model_filename))\n",
        " \n",
        "\t\n",
        "\tgan_model_filename = weight_folder +'/gan_model_%06d.h5' % (step+1)\n",
        "\tgan_model.save(gan_model_filename)\n",
        "\tprint('>Saved: %s' % ( gan_model_filename))\n"
      ]
    },
    {
      "cell_type": "code",
      "execution_count": 61,
      "metadata": {
        "id": "f-a-TTTXsS1Q"
      },
      "outputs": [],
      "source": [
        "import tensorflow as tf\n",
        "from os import listdir\n",
        "from numpy import asarray, load\n",
        "from numpy import vstack\n",
        "from tensorflow.keras.preprocessing.image import img_to_array\n",
        "from tensorflow.keras.preprocessing.image import load_img\n",
        "from numpy import savez_compressed\n",
        "from matplotlib import pyplot\n",
        "import numpy as np\n",
        "from PIL import Image, ImageOps"
      ]
    },
    {
      "cell_type": "code",
      "execution_count": 62,
      "metadata": {
        "id": "zTgocus6n6IW"
      },
      "outputs": [],
      "source": [
        "# This function will create a list of image path\n",
        "def generate_image_path_list(folder_name):\n",
        "  path_list = list() \n",
        "  for filename in listdir(folder_name):\n",
        "    path_list.append(filename)\n",
        "  return path_list"
      ]
    },
    {
      "cell_type": "code",
      "execution_count": 63,
      "metadata": {
        "id": "GFWXevsvsVqS"
      },
      "outputs": [],
      "source": [
        "# load all images in a directory into memory\n",
        "def load_images(im_indecator, im_path_list, im_path, batch_size, size=(256,256)):\n",
        "\tsrc_list, tar_list = list(), list()\n",
        "\t# enumerate filenames in directory, assume all are images\n",
        "\t# for filename in listdir(path):\n",
        "\tif ((im_indecator + batch_size) > len(im_path_list)):\n",
        "\t\tbatch_size = len(im_path_list) - im_indecator\n",
        "\tfor j in range(batch_size):\n",
        "\n",
        "\t\t# load and resize the image\n",
        "\t\t#pixels = load_img(path + filename, target_size=size)\n",
        "\t\trgb_image = load_img(im_path + im_path_list[im_indecator+j], target_size=size)\n",
        "\t\t#gray_image = ImageOps.grayscale(rgb_image)\n",
        "\t\t# gray_image = tf.image.rgb_to_grayscale(rgb_image)\n",
        "\t\t# convert to numpy array\n",
        "\t\trgb_pixels = img_to_array(rgb_image)\n",
        "\t\n",
        "\n",
        "\t\trgb_np_array = np.array(rgb_pixels, dtype=float)\n",
        "\t\tlab_pixels = rgb2lab(1.0/255*rgb_np_array)\n",
        "\t\tgray_pixels = lab_pixels[:,:,0]\n",
        "\t\tab_pixels = lab_pixels[:,:,1:]\n",
        "\n",
        "\n",
        "\t\t# gray_pixels = img_to_array(gray_image)\n",
        "\t\t# split into satellite and map\n",
        "\t\t#sat_img, map_img = pixels[:, :256], pixels[:, 256:]\n",
        "\t\tsrc_list.append(gray_pixels)\n",
        "\t\ttar_list.append(ab_pixels)\n",
        "\treturn [asarray(src_list), asarray(tar_list)]"
      ]
    },
    {
      "cell_type": "code",
      "execution_count": 64,
      "metadata": {
        "id": "ze6ujX1-xoxE"
      },
      "outputs": [],
      "source": [
        "\n",
        "def preprocess_data(data):\n",
        "\t# load compressed arrays\n",
        "\t# unpack arrays\n",
        "\tX1, X2 = data[0], data[1]\n",
        "\t# scale from [0,255] to [-1,1]\n",
        "\tX1 = (X1 - 127.5) / 127.5\n",
        "\tX2 = (X2 - 127.5) / 127.5\n",
        "\treturn [X1, X2]\n",
        "\n"
      ]
    },
    {
      "cell_type": "code",
      "execution_count": 93,
      "metadata": {
        "id": "dFvi_tIAykjq"
      },
      "outputs": [],
      "source": [
        "\n",
        "\n",
        "# train pix2pix models\n",
        "# def train(d_model, g_model, gan_model, dataset, n_epochs=100, n_batch=1):\n",
        "\n",
        "def train(d_model, g_model, gan_model, im_path_list, im_path, weight_folder, save_weight_file_after = 10, n_epochs=100, n_batch=1):\n",
        "\t\"\"\"This function is used to train the GAN\n",
        "\n",
        "\tArgs:\n",
        "\t\td_model (keras model): discriminator model\n",
        "\t\tg_model (keras model): generator model\n",
        "\t\tgan_model (keras model): combine of d_model and g_model or GAN\n",
        "\t\tim_path_list (list): this will contain all image name in the dataset(main image) folder\n",
        "\t\tim_path (string): dataset path or image path \n",
        "\t\tweight_folder (string): folder to save weight file\n",
        "\t\tsave_weight_file_after (int, optional): number of epoch to save weight file. mane koita wpoch er por weight file save korbe. Defaults to 10.\n",
        "\t\tn_epochs (int, optional): Total number of epoch. Defaults to 100.\n",
        "\t\tn_batch (int, optional): number of batch. Defaults to 1.\n",
        "\t\"\"\"\n",
        "\n",
        "\n",
        "\t# determine the output square shape of the discriminator\n",
        "\tn_patch = d_model.output_shape[1]\n",
        "\t# unpack dataset\n",
        "\t# trainA, trainB = dataset\n",
        "\t# calculate the number of batches per training epoch\n",
        "\t# bat_per_epo = int(len(trainA) / n_batch)\n",
        "\t# calculate the number of training iterations\n",
        "\t# n_steps = bat_per_epo * n_epochs\n",
        "\t# manually enumerate epochs\n",
        "\ttotal_image = len(im_path_list)\n",
        "\tfor i in range(n_epochs):\n",
        "\t\tim_indicator = 0 # Track of current image\n",
        "\t\twhile (im_indicator < total_image):\n",
        "\t\t\t\tepoch_time_start = datetime.now()\n",
        "\t\t\t\t[src_images, tar_images]  = load_images(im_indicator, im_path_list = im_path_list, im_path = im_path, batch_size = n_batch)\n",
        "\t\t\t\tdataset = preprocess_data([src_images, tar_images])\n",
        "\t\t\t\ttrainA, trainB = dataset\n",
        "\n",
        "\t\t\t\tim_indicator = im_indicator + n_batch\n",
        "\n",
        "\n",
        "\t\t\t\t# select a batch of real samples\n",
        "\t\t\t\t[X_realA, X_realB], y_real = generate_real_samples(dataset, n_batch, n_patch)\n",
        "\t\t\t\t# generate a batch of fake samples\n",
        "\t\t\t\tX_fakeB, y_fake = generate_fake_samples(g_model, X_realA, n_patch)\n",
        "\t\t\t\t# update discriminator for real samples\n",
        "\t\t\t\td_loss1 = d_model.train_on_batch([X_realA, X_realB], y_real)\n",
        "\t\t\t\t# update discriminator for generated samples\n",
        "\t\t\t\td_loss2 = d_model.train_on_batch([X_realA, X_fakeB], y_fake)\n",
        "\t\t\t\t# update the generator\n",
        "\t\t\t\tg_loss, _, _ = gan_model.train_on_batch(X_realA, [y_real, X_realB])\n",
        "\n",
        "\t\t\t\tepoch_time_end = datetime.now()\n",
        "\t\t\t\tepoch_execution_time = epoch_time_end - epoch_time_start\n",
        "\n",
        "\t\t\t\t\n",
        "\t\t\t\t# summarize performance\n",
        "\t\t\t\tprint('>epoch: %d, batch: %d, d1[%.3f] d2[%.3f] g[%.3f],  execution time:  ' % (i+1,im_indicator/n_batch, d_loss1, d_loss2, g_loss),epoch_execution_time)\n",
        "\t\t\t\t# summarize model performance\n",
        "\t\tif (i+1) %  save_weight_file_after == 0:\n",
        "\n",
        "\t\t\t[src_images, tar_images]  = load_images(im_indicator- n_batch , im_path_list = im_path_list, im_path = im_path, batch_size = n_batch)\n",
        "\t\t\tdataset = preprocess_data([src_images, tar_images])\n",
        "\t\t\tsummarize_performance(step = i, g_model = g_model, d_model= d_model,gan_model=gan_model, weight_folder= weight_folder)"
      ]
    },
    {
      "cell_type": "code",
      "execution_count": 94,
      "metadata": {
        "id": "aYRJxFqHsZSn"
      },
      "outputs": [],
      "source": [
        "# \"\"\"Checking the load_images function...ignore\"\"\"\n",
        "\n",
        "\n",
        "\n",
        "\n",
        "# path = '/content/gdrive/MyDrive/3200_Project/Project/Zahim_folder/New_Image/'\n",
        "# path_list = generate_image_path_list(path)\n",
        "# # load dataset\n",
        "# [src_images, tar_images] = load_images(im_indecator = 0, im_path_list = path_list, im_path = path, batch_size = 1, size=(256,256))\n",
        "# print('Loaded: ', src_images.shape, tar_images.shape)\n",
        "\n",
        "\n",
        "# n_samples = 1\n",
        "# for i in range(n_samples):\n",
        "# \tpyplot.subplot(2, n_samples, 1 + i)\n",
        "# \tpyplot.axis('off')\n",
        "# \tre = np.squeeze(src_images[i])\n",
        "# \tpyplot.imshow(re.astype('uint8'),'gray')\n",
        "# # plot target image\n",
        "# for i in range(n_samples):\n",
        "# \tpyplot.subplot(2, n_samples, 1 + n_samples + i)\n",
        "# \tpyplot.axis('off')\n",
        "# \tpyplot.imshow(tar_images[i].astype('uint8'))\n",
        "# pyplot.show()\n",
        "\n",
        "#######################################\n",
        "\n"
      ]
    },
    {
      "cell_type": "code",
      "execution_count": 95,
      "metadata": {
        "id": "hgA8EdD1pP2k"
      },
      "outputs": [],
      "source": [
        "#from pix2pix_model import define_discriminator, define_generator, define_gan, train\n",
        "# define input shape based on the loaded dataset\n",
        "# input_image_shape = src_images.shape[1:]\n",
        "# output_image_shape = tar_images.shape[1:]\n",
        "input_image_shape = (256,256,1)\n",
        "output_image_shape = (256,256,2)\n",
        "# define the models\n",
        "d_model = define_discriminator(input_image_shape,output_image_shape)\n",
        "g_model = define_generator(input_image_shape,output_image_shape)\n",
        "# define the composite model\n",
        "gan_model = define_gan(g_model, d_model, input_image_shape)\n",
        "\n",
        "#Define data\n",
        "# load and prepare training images\n",
        "# data = [src_images, tar_images]"
      ]
    },
    {
      "cell_type": "code",
      "execution_count": 96,
      "metadata": {
        "id": "1_k6qIMGKCiL"
      },
      "outputs": [],
      "source": [
        "# trainA, trainB = dataset\n",
        "# trainA[12].shape"
      ]
    },
    {
      "cell_type": "code",
      "execution_count": 97,
      "metadata": {
        "id": "xWbGlX7_Gj1n"
      },
      "outputs": [],
      "source": [
        "# dataset = preprocess_data(data)"
      ]
    },
    {
      "cell_type": "code",
      "execution_count": 98,
      "metadata": {
        "id": "8Bn-wyOspX3Y"
      },
      "outputs": [],
      "source": [
        "train_image_path = 'H:\\\\nahin\\Dataset\\PASCAL_VOC_2012\\VOC2012\\JPEGImages/'\n",
        "# train_image_path = 'H:\\\\nahin\\Dataset\\smallVOC300/'\n",
        "weight_folder = 'H:\\\\nahin\\LAB\\weight_file'\n",
        "#pretrained_generator_path = 'H:\\\\nahin\\HSV\\weight_file\\g_model_000100.h5'\n",
        "path_list = generate_image_path_list(train_image_path)"
      ]
    },
    {
      "cell_type": "code",
      "execution_count": 99,
      "metadata": {
        "colab": {
          "base_uri": "https://localhost:8080/",
          "height": 501
        },
        "id": "6MbNYT-UzBPP",
        "outputId": "3f7cf3c8-77b3-4e29-8ed8-1f8f48ca4b62"
      },
      "outputs": [
        {
          "name": "stdout",
          "output_type": "stream",
          "text": [
            "WARNING:tensorflow:5 out of the last 11 calls to <function Model.make_predict_function.<locals>.predict_function at 0x000002397F075670> triggered tf.function retracing. Tracing is expensive and the excessive number of tracings could be due to (1) creating @tf.function repeatedly in a loop, (2) passing tensors with different shapes, (3) passing Python objects instead of tensors. For (1), please define your @tf.function outside of the loop. For (2), @tf.function has reduce_retracing=True option that can avoid unnecessary retracing. For (3), please refer to https://www.tensorflow.org/guide/function#controlling_retracing and https://www.tensorflow.org/api_docs/python/tf/function for  more details.\n",
            "1/1 [==============================] - 0s 321ms/step\n",
            ">epoch: 1, batch: 1, d1[0.430] d2[0.750] g[98.785],  execution time:   0:00:04.637978\n",
            "1/1 [==============================] - 0s 20ms/step\n",
            ">epoch: 1, batch: 2, d1[0.318] d2[0.600] g[95.765],  execution time:   0:00:02.073495\n",
            "1/1 [==============================] - 0s 20ms/step\n",
            ">epoch: 1, batch: 3, d1[0.416] d2[0.535] g[89.834],  execution time:   0:00:02.067485\n",
            "1/1 [==============================] - 0s 20ms/step\n",
            ">epoch: 1, batch: 4, d1[0.215] d2[0.587] g[86.229],  execution time:   0:00:02.073927\n",
            "1/1 [==============================] - 0s 20ms/step\n",
            ">epoch: 1, batch: 5, d1[0.251] d2[0.389] g[85.861],  execution time:   0:00:02.047771\n",
            "1/1 [==============================] - 0s 23ms/step\n",
            ">epoch: 1, batch: 6, d1[0.264] d2[0.363] g[84.945],  execution time:   0:00:02.134569\n",
            "1/1 [==============================] - 0s 19ms/step\n",
            ">epoch: 1, batch: 7, d1[0.156] d2[0.341] g[81.287],  execution time:   0:00:02.183556\n",
            "1/1 [==============================] - 0s 21ms/step\n",
            ">epoch: 1, batch: 8, d1[0.148] d2[0.234] g[75.583],  execution time:   0:00:02.090753\n",
            "1/1 [==============================] - 0s 21ms/step\n",
            ">epoch: 1, batch: 9, d1[0.108] d2[0.234] g[77.802],  execution time:   0:00:02.171462\n",
            "1/1 [==============================] - 0s 21ms/step\n",
            ">epoch: 1, batch: 10, d1[0.110] d2[0.311] g[71.277],  execution time:   0:00:02.158182\n",
            "1/1 [==============================] - 0s 21ms/step\n",
            ">epoch: 1, batch: 11, d1[0.102] d2[0.236] g[71.808],  execution time:   0:00:02.143019\n",
            "1/1 [==============================] - 0s 21ms/step\n",
            ">epoch: 1, batch: 12, d1[0.121] d2[0.232] g[67.329],  execution time:   0:00:02.203283\n",
            "1/1 [==============================] - 0s 27ms/step\n",
            ">epoch: 1, batch: 13, d1[0.082] d2[0.106] g[65.448],  execution time:   0:00:02.363500\n",
            "1/1 [==============================] - 0s 22ms/step\n",
            ">epoch: 1, batch: 14, d1[0.074] d2[0.100] g[64.190],  execution time:   0:00:02.301925\n",
            "1/1 [==============================] - 0s 21ms/step\n",
            ">epoch: 1, batch: 15, d1[0.066] d2[0.084] g[64.069],  execution time:   0:00:02.285678\n",
            "1/1 [==============================] - 0s 22ms/step\n",
            ">epoch: 1, batch: 16, d1[0.062] d2[0.083] g[58.908],  execution time:   0:00:02.289295\n",
            "1/1 [==============================] - 0s 21ms/step\n"
          ]
        }
      ],
      "source": [
        "# from datetime import datetime\n",
        "start1 = datetime.now() \n",
        "\n",
        "# train(d_model, g_model, gan_model, dataset, n_epochs=150, n_batch=1) \n",
        "train(d_model, g_model, gan_model, im_path_list = path_list, im_path = train_image_path, weight_folder = weight_folder,save_weight_file_after = 1, n_epochs=100, n_batch=32)\n",
        "stop1 = datetime.now()\n",
        "#Execution time of the model \n",
        "execution_time = stop1-start1\n",
        "print(\"Execution time is: \", execution_time)\n"
      ]
    },
    {
      "cell_type": "code",
      "execution_count": null,
      "metadata": {
        "colab": {
          "base_uri": "https://localhost:8080/"
        },
        "id": "dFwiOsNt8Iw_",
        "outputId": "07384e3f-0180-4350-e9b0-d7d47cdff0d2"
      },
      "outputs": [
        {
          "name": "stderr",
          "output_type": "stream",
          "text": [
            "WARNING:tensorflow:No training configuration found in the save file, so the model was *not* compiled. Compile it manually.\n"
          ]
        }
      ],
      "source": [
        "#Test trained model on image...\n",
        "\n",
        "from keras.models import load_model\n",
        "from numpy.random import randint\n",
        "model = load_model('/content/gdrive/MyDrive/Thesis/Dataset/test/chkpoint1/model_000002.h5')"
      ]
    },
    {
      "cell_type": "code",
      "execution_count": null,
      "metadata": {
        "id": "uhUDPg-xt3mB"
      },
      "outputs": [],
      "source": [
        "#function to load a single image for test\n",
        "def load_single_images(path, size=(256,256)):\n",
        "    src_list, tar_list = list(), list()\n",
        "    rgb_image = load_img(path, target_size=size)\n",
        "    gray_image = ImageOps.grayscale(rgb_image)\n",
        "    # gray_image = tf.image.rgb_to_grayscale(rgb_image)\n",
        "    # convert to numpy array\n",
        "    rgb_pixels = img_to_array(rgb_image)\n",
        "    gray_pixels = img_to_array(gray_image)\n",
        "    # split into satellite and map\n",
        "    #sat_img, map_img = pixels[:, :256], pixels[:, 256:]\n",
        "    src_list.append(gray_pixels)\n",
        "    tar_list.append(rgb_pixels)\n",
        "    return [asarray(src_list), asarray(tar_list)]"
      ]
    },
    {
      "cell_type": "code",
      "execution_count": null,
      "metadata": {
        "id": "AU-XvRNR9mey"
      },
      "outputs": [],
      "source": [
        "test_data = load_single_images('/content/gdrive/MyDrive/Thesis/Dataset/test/few_image/20056.jpg')\n"
      ]
    },
    {
      "cell_type": "code",
      "execution_count": null,
      "metadata": {
        "colab": {
          "base_uri": "https://localhost:8080/",
          "height": 162
        },
        "id": "-QsBehGa1bVy",
        "outputId": "e217e702-d20a-4206-a56f-da60f27a1fc5"
      },
      "outputs": [
        {
          "name": "stdout",
          "output_type": "stream",
          "text": [
            "(2, 256, 256, 3)\n"
          ]
        },
        {
          "data": {
            "image/png": "[encoded data removed]",
            "text/plain": [
              "<Figure size 432x288 with 3 Axes>"
            ]
          },
          "metadata": {
            "needs_background": "light"
          },
          "output_type": "display_data"
        }
      ],
      "source": [
        "# plot source, generated and target images\n",
        "def plot_images(src_img, gen_img, tar_img):\n",
        "  \n",
        "  images = vstack(( gen_img, tar_img))\n",
        "  #images = src_img\n",
        "  # scale from [-1,1] to [0,1]\n",
        "  images = (images + 1) / 2.0\n",
        "  titles = ['Source', 'Generated', 'Expected']\n",
        "  pyplot.subplot(1,3,1)\n",
        "  pyplot.axis('off')\n",
        "  re = np.squeeze(src_image)\n",
        "  pyplot.imshow(re,'gray')\n",
        "  pyplot.title(titles[0])\n",
        "  # plot images row by row\n",
        "  for i in range(len(images)):\n",
        "    \n",
        "    # define subplot\n",
        "    pyplot.subplot(1, 3, 2 + i)# turn off axis\n",
        "    pyplot.axis('off')# plot raw pixel data\n",
        "    pyplot.imshow(images[i])# show title\n",
        "    pyplot.title(titles[i+1])\n",
        "  print(images.shape)\n",
        "  # pyplot.subplot(1,3,1)\n",
        "  # pyplot.imshow(images[0,:,:,:])\n",
        "  pyplot.show()\n",
        "\n",
        "\n",
        "\n",
        "#[X1, X2] = dataset\n",
        "# select random example\n",
        "#ix = randint(0, len(X1), 1)\n",
        "#src_image, tar_image = X1[ix], X2[ix]\n",
        "# src_image, tar_image = test_data\n",
        "src_image, tar_image = preprocess_data(test_data)\n",
        "# generate image from source\n",
        "gen_image = model.predict(src_image)\n",
        "# plot all three images\n",
        "plot_images(src_image, gen_image, tar_image)"
      ]
    },
    {
      "cell_type": "code",
      "execution_count": null,
      "metadata": {
        "colab": {
          "base_uri": "https://localhost:8080/"
        },
        "id": "HH1CVPW77e5c",
        "outputId": "30c9142c-031d-408c-9e45-008d7ba59dcd"
      },
      "outputs": [
        {
          "data": {
            "text/plain": [
              "(256, 256)"
            ]
          },
          "execution_count": 8,
          "metadata": {},
          "output_type": "execute_result"
        }
      ],
      "source": [
        "re = np.squeeze(src_image)\n",
        "re.shape"
      ]
    },
    {
      "cell_type": "code",
      "execution_count": null,
      "metadata": {
        "colab": {
          "base_uri": "https://localhost:8080/"
        },
        "id": "9GlFI0Xs7fvm",
        "outputId": "bde5b213-b49d-47c0-a3b2-03261749919f"
      },
      "outputs": [
        {
          "data": {
            "text/plain": [
              "(1, 256, 256, 1)"
            ]
          },
          "execution_count": 6,
          "metadata": {},
          "output_type": "execute_result"
        }
      ],
      "source": [
        "src_image.shape"
      ]
    },
    {
      "cell_type": "code",
      "execution_count": null,
      "metadata": {
        "id": "ctX0Z4vJ73ZL"
      },
      "outputs": [],
      "source": []
    }
  ],
  "metadata": {
    "accelerator": "GPU",
    "colab": {
      "collapsed_sections": [],
      "provenance": []
    },
    "gpuClass": "standard",
    "kernelspec": {
      "display_name": "Python 3.8.8 ('base')",
      "language": "python",
      "name": "python3"
    },
    "language_info": {
      "codemirror_mode": {
        "name": "ipython",
        "version": 3
      },
      "file_extension": ".py",
      "mimetype": "text/x-python",
      "name": "python",
      "nbconvert_exporter": "python",
      "pygments_lexer": "ipython3",
      "version": "3.8.8"
    },
    "vscode": {
      "interpreter": {
        "hash": "cbab80897c756e21206e83b1602264f7bed4b229d7a86fb97552ee165cb35ec2"
      }
    }
  },
  "nbformat": 4,
  "nbformat_minor": 0
}
